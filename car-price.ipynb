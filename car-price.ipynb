{
 "cells": [
  {
   "cell_type": "code",
   "execution_count": 1,
   "id": "ac6aa027",
   "metadata": {
    "_cell_guid": "b1076dfc-b9ad-4769-8c92-a6c4dae69d19",
    "_uuid": "8f2839f25d086af736a60e9eeb907d3b93b6e0e5",
    "execution": {
     "iopub.execute_input": "2024-06-10T04:29:34.962667Z",
     "iopub.status.busy": "2024-06-10T04:29:34.962169Z",
     "iopub.status.idle": "2024-06-10T04:29:36.087937Z",
     "shell.execute_reply": "2024-06-10T04:29:36.086713Z"
    },
    "papermill": {
     "duration": 1.143377,
     "end_time": "2024-06-10T04:29:36.090559",
     "exception": false,
     "start_time": "2024-06-10T04:29:34.947182",
     "status": "completed"
    },
    "tags": []
   },
   "outputs": [
    {
     "name": "stdout",
     "output_type": "stream",
     "text": [
      "/kaggle/input/car-price-prediction-dataset/car_prediction_data.csv\n"
     ]
    }
   ],
   "source": [
    "# This Python 3 environment comes with many helpful analytics libraries installed\n",
    "# It is defined by the kaggle/python Docker image: https://github.com/kaggle/docker-python\n",
    "# For example, here's several helpful packages to load\n",
    "\n",
    "import numpy as np # linear algebra\n",
    "import pandas as pd # data processing, CSV file I/O (e.g. pd.read_csv)\n",
    "\n",
    "# Input data files are available in the read-only \"../input/\" directory\n",
    "# For example, running this (by clicking run or pressing Shift+Enter) will list all files under the input directory\n",
    "\n",
    "import os\n",
    "for dirname, _, filenames in os.walk('/kaggle/input'):\n",
    "    for filename in filenames:\n",
    "        print(os.path.join(dirname, filename))\n",
    "\n",
    "# You can write up to 20GB to the current directory (/kaggle/working/) that gets preserved as output when you create a version using \"Save & Run All\" \n",
    "# You can also write temporary files to /kaggle/temp/, but they won't be saved outside of the current session"
   ]
  },
  {
   "cell_type": "markdown",
   "id": "04f1ac92",
   "metadata": {
    "papermill": {
     "duration": 0.01289,
     "end_time": "2024-06-10T04:29:36.116306",
     "exception": false,
     "start_time": "2024-06-10T04:29:36.103416",
     "status": "completed"
    },
    "tags": []
   },
   "source": [
    "**Importing the Dependencies**"
   ]
  },
  {
   "cell_type": "code",
   "execution_count": 2,
   "id": "d9420500",
   "metadata": {
    "execution": {
     "iopub.execute_input": "2024-06-10T04:29:36.144362Z",
     "iopub.status.busy": "2024-06-10T04:29:36.143840Z",
     "iopub.status.idle": "2024-06-10T04:29:38.160109Z",
     "shell.execute_reply": "2024-06-10T04:29:38.158992Z"
    },
    "papermill": {
     "duration": 2.03332,
     "end_time": "2024-06-10T04:29:38.162941",
     "exception": false,
     "start_time": "2024-06-10T04:29:36.129621",
     "status": "completed"
    },
    "tags": []
   },
   "outputs": [],
   "source": [
    "import warnings\n",
    "import pandas as pd\n",
    "import numpy as np\n",
    "import matplotlib.pyplot as plt\n",
    "import seaborn as sns\n",
    "from sklearn.linear_model import LinearRegression\n",
    "from sklearn.linear_model import Lasso\n",
    "from sklearn.model_selection import train_test_split\n",
    "from sklearn import metrics"
   ]
  },
  {
   "cell_type": "markdown",
   "id": "40f5e8c1",
   "metadata": {
    "papermill": {
     "duration": 0.012769,
     "end_time": "2024-06-10T04:29:38.188486",
     "exception": false,
     "start_time": "2024-06-10T04:29:38.175717",
     "status": "completed"
    },
    "tags": []
   },
   "source": [
    "**Data Collection and Processing**"
   ]
  },
  {
   "cell_type": "code",
   "execution_count": 3,
   "id": "a6d9da14",
   "metadata": {
    "execution": {
     "iopub.execute_input": "2024-06-10T04:29:38.216990Z",
     "iopub.status.busy": "2024-06-10T04:29:38.216554Z",
     "iopub.status.idle": "2024-06-10T04:29:38.245175Z",
     "shell.execute_reply": "2024-06-10T04:29:38.243964Z"
    },
    "papermill": {
     "duration": 0.046915,
     "end_time": "2024-06-10T04:29:38.248117",
     "exception": false,
     "start_time": "2024-06-10T04:29:38.201202",
     "status": "completed"
    },
    "tags": []
   },
   "outputs": [],
   "source": [
    "# Loading the data set from csv file to pandas dataframe\n",
    "\n",
    "df=pd.read_csv(\"/kaggle/input/car-price-prediction-dataset/car_prediction_data.csv\")"
   ]
  },
  {
   "cell_type": "code",
   "execution_count": 4,
   "id": "50dc7da1",
   "metadata": {
    "execution": {
     "iopub.execute_input": "2024-06-10T04:29:38.275661Z",
     "iopub.status.busy": "2024-06-10T04:29:38.275258Z",
     "iopub.status.idle": "2024-06-10T04:29:38.305481Z",
     "shell.execute_reply": "2024-06-10T04:29:38.304156Z"
    },
    "papermill": {
     "duration": 0.04718,
     "end_time": "2024-06-10T04:29:38.308163",
     "exception": false,
     "start_time": "2024-06-10T04:29:38.260983",
     "status": "completed"
    },
    "tags": []
   },
   "outputs": [
    {
     "data": {
      "text/html": [
       "<div>\n",
       "<style scoped>\n",
       "    .dataframe tbody tr th:only-of-type {\n",
       "        vertical-align: middle;\n",
       "    }\n",
       "\n",
       "    .dataframe tbody tr th {\n",
       "        vertical-align: top;\n",
       "    }\n",
       "\n",
       "    .dataframe thead th {\n",
       "        text-align: right;\n",
       "    }\n",
       "</style>\n",
       "<table border=\"1\" class=\"dataframe\">\n",
       "  <thead>\n",
       "    <tr style=\"text-align: right;\">\n",
       "      <th></th>\n",
       "      <th>Car_Name</th>\n",
       "      <th>Year</th>\n",
       "      <th>Selling_Price</th>\n",
       "      <th>Present_Price</th>\n",
       "      <th>Kms_Driven</th>\n",
       "      <th>Fuel_Type</th>\n",
       "      <th>Seller_Type</th>\n",
       "      <th>Transmission</th>\n",
       "      <th>Owner</th>\n",
       "    </tr>\n",
       "  </thead>\n",
       "  <tbody>\n",
       "    <tr>\n",
       "      <th>0</th>\n",
       "      <td>ritz</td>\n",
       "      <td>2014</td>\n",
       "      <td>3.35</td>\n",
       "      <td>5.59</td>\n",
       "      <td>27000</td>\n",
       "      <td>Petrol</td>\n",
       "      <td>Dealer</td>\n",
       "      <td>Manual</td>\n",
       "      <td>0</td>\n",
       "    </tr>\n",
       "    <tr>\n",
       "      <th>1</th>\n",
       "      <td>sx4</td>\n",
       "      <td>2013</td>\n",
       "      <td>4.75</td>\n",
       "      <td>9.54</td>\n",
       "      <td>43000</td>\n",
       "      <td>Diesel</td>\n",
       "      <td>Dealer</td>\n",
       "      <td>Manual</td>\n",
       "      <td>0</td>\n",
       "    </tr>\n",
       "    <tr>\n",
       "      <th>2</th>\n",
       "      <td>ciaz</td>\n",
       "      <td>2017</td>\n",
       "      <td>7.25</td>\n",
       "      <td>9.85</td>\n",
       "      <td>6900</td>\n",
       "      <td>Petrol</td>\n",
       "      <td>Dealer</td>\n",
       "      <td>Manual</td>\n",
       "      <td>0</td>\n",
       "    </tr>\n",
       "    <tr>\n",
       "      <th>3</th>\n",
       "      <td>wagon r</td>\n",
       "      <td>2011</td>\n",
       "      <td>2.85</td>\n",
       "      <td>4.15</td>\n",
       "      <td>5200</td>\n",
       "      <td>Petrol</td>\n",
       "      <td>Dealer</td>\n",
       "      <td>Manual</td>\n",
       "      <td>0</td>\n",
       "    </tr>\n",
       "    <tr>\n",
       "      <th>4</th>\n",
       "      <td>swift</td>\n",
       "      <td>2014</td>\n",
       "      <td>4.60</td>\n",
       "      <td>6.87</td>\n",
       "      <td>42450</td>\n",
       "      <td>Diesel</td>\n",
       "      <td>Dealer</td>\n",
       "      <td>Manual</td>\n",
       "      <td>0</td>\n",
       "    </tr>\n",
       "  </tbody>\n",
       "</table>\n",
       "</div>"
      ],
      "text/plain": [
       "  Car_Name  Year  Selling_Price  Present_Price  Kms_Driven Fuel_Type  \\\n",
       "0     ritz  2014           3.35           5.59       27000    Petrol   \n",
       "1      sx4  2013           4.75           9.54       43000    Diesel   \n",
       "2     ciaz  2017           7.25           9.85        6900    Petrol   \n",
       "3  wagon r  2011           2.85           4.15        5200    Petrol   \n",
       "4    swift  2014           4.60           6.87       42450    Diesel   \n",
       "\n",
       "  Seller_Type Transmission  Owner  \n",
       "0      Dealer       Manual      0  \n",
       "1      Dealer       Manual      0  \n",
       "2      Dealer       Manual      0  \n",
       "3      Dealer       Manual      0  \n",
       "4      Dealer       Manual      0  "
      ]
     },
     "execution_count": 4,
     "metadata": {},
     "output_type": "execute_result"
    }
   ],
   "source": [
    "#Inspecting the first 5 rows of the dataframe\n",
    "df.head()"
   ]
  },
  {
   "cell_type": "code",
   "execution_count": 5,
   "id": "86ff0216",
   "metadata": {
    "execution": {
     "iopub.execute_input": "2024-06-10T04:29:38.336127Z",
     "iopub.status.busy": "2024-06-10T04:29:38.335682Z",
     "iopub.status.idle": "2024-06-10T04:29:38.342716Z",
     "shell.execute_reply": "2024-06-10T04:29:38.341523Z"
    },
    "papermill": {
     "duration": 0.024032,
     "end_time": "2024-06-10T04:29:38.345261",
     "exception": false,
     "start_time": "2024-06-10T04:29:38.321229",
     "status": "completed"
    },
    "tags": []
   },
   "outputs": [
    {
     "data": {
      "text/plain": [
       "(301, 9)"
      ]
     },
     "execution_count": 5,
     "metadata": {},
     "output_type": "execute_result"
    }
   ],
   "source": [
    "# Checking the number of rows and columns\n",
    "df.shape"
   ]
  },
  {
   "cell_type": "code",
   "execution_count": 6,
   "id": "a36c5bdf",
   "metadata": {
    "execution": {
     "iopub.execute_input": "2024-06-10T04:29:38.373732Z",
     "iopub.status.busy": "2024-06-10T04:29:38.373285Z",
     "iopub.status.idle": "2024-06-10T04:29:38.399843Z",
     "shell.execute_reply": "2024-06-10T04:29:38.398340Z"
    },
    "papermill": {
     "duration": 0.043844,
     "end_time": "2024-06-10T04:29:38.402679",
     "exception": false,
     "start_time": "2024-06-10T04:29:38.358835",
     "status": "completed"
    },
    "tags": []
   },
   "outputs": [
    {
     "name": "stdout",
     "output_type": "stream",
     "text": [
      "<class 'pandas.core.frame.DataFrame'>\n",
      "RangeIndex: 301 entries, 0 to 300\n",
      "Data columns (total 9 columns):\n",
      " #   Column         Non-Null Count  Dtype  \n",
      "---  ------         --------------  -----  \n",
      " 0   Car_Name       301 non-null    object \n",
      " 1   Year           301 non-null    int64  \n",
      " 2   Selling_Price  301 non-null    float64\n",
      " 3   Present_Price  301 non-null    float64\n",
      " 4   Kms_Driven     301 non-null    int64  \n",
      " 5   Fuel_Type      301 non-null    object \n",
      " 6   Seller_Type    301 non-null    object \n",
      " 7   Transmission   301 non-null    object \n",
      " 8   Owner          301 non-null    int64  \n",
      "dtypes: float64(2), int64(3), object(4)\n",
      "memory usage: 21.3+ KB\n"
     ]
    }
   ],
   "source": [
    "# Explore the more Information\n",
    "df.info()"
   ]
  },
  {
   "cell_type": "code",
   "execution_count": 7,
   "id": "6cf9b4a0",
   "metadata": {
    "execution": {
     "iopub.execute_input": "2024-06-10T04:29:38.431570Z",
     "iopub.status.busy": "2024-06-10T04:29:38.430618Z",
     "iopub.status.idle": "2024-06-10T04:29:38.440153Z",
     "shell.execute_reply": "2024-06-10T04:29:38.438987Z"
    },
    "papermill": {
     "duration": 0.026572,
     "end_time": "2024-06-10T04:29:38.442727",
     "exception": false,
     "start_time": "2024-06-10T04:29:38.416155",
     "status": "completed"
    },
    "tags": []
   },
   "outputs": [
    {
     "data": {
      "text/plain": [
       "Car_Name         0\n",
       "Year             0\n",
       "Selling_Price    0\n",
       "Present_Price    0\n",
       "Kms_Driven       0\n",
       "Fuel_Type        0\n",
       "Seller_Type      0\n",
       "Transmission     0\n",
       "Owner            0\n",
       "dtype: int64"
      ]
     },
     "execution_count": 7,
     "metadata": {},
     "output_type": "execute_result"
    }
   ],
   "source": [
    "# Checking the number of missing values\n",
    "df.isnull().sum()"
   ]
  },
  {
   "cell_type": "code",
   "execution_count": 8,
   "id": "de45d21a",
   "metadata": {
    "execution": {
     "iopub.execute_input": "2024-06-10T04:29:38.471347Z",
     "iopub.status.busy": "2024-06-10T04:29:38.470935Z",
     "iopub.status.idle": "2024-06-10T04:29:38.480464Z",
     "shell.execute_reply": "2024-06-10T04:29:38.479350Z"
    },
    "papermill": {
     "duration": 0.026858,
     "end_time": "2024-06-10T04:29:38.483078",
     "exception": false,
     "start_time": "2024-06-10T04:29:38.456220",
     "status": "completed"
    },
    "tags": []
   },
   "outputs": [
    {
     "name": "stdout",
     "output_type": "stream",
     "text": [
      "Fuel_Type\n",
      "Petrol    239\n",
      "Diesel     60\n",
      "CNG         2\n",
      "Name: count, dtype: int64\n",
      "Seller_Type\n",
      "Dealer        195\n",
      "Individual    106\n",
      "Name: count, dtype: int64\n",
      "Transmission\n",
      "Manual       261\n",
      "Automatic     40\n",
      "Name: count, dtype: int64\n"
     ]
    }
   ],
   "source": [
    "# Checking the distribution of categorical data\n",
    "print(df.Fuel_Type.value_counts())\n",
    "print(df.Seller_Type.value_counts())\n",
    "print(df.Transmission.value_counts())"
   ]
  },
  {
   "cell_type": "code",
   "execution_count": 9,
   "id": "2697e4d0",
   "metadata": {
    "execution": {
     "iopub.execute_input": "2024-06-10T04:29:38.511881Z",
     "iopub.status.busy": "2024-06-10T04:29:38.511450Z",
     "iopub.status.idle": "2024-06-10T04:29:39.362329Z",
     "shell.execute_reply": "2024-06-10T04:29:39.361078Z"
    },
    "papermill": {
     "duration": 0.868438,
     "end_time": "2024-06-10T04:29:39.365038",
     "exception": false,
     "start_time": "2024-06-10T04:29:38.496600",
     "status": "completed"
    },
    "tags": []
   },
   "outputs": [
    {
     "data": {
      "image/png": "[encoded data removed]",
      "text/plain": [
       "<Figure size 1800x500 with 3 Axes>"
      ]
     },
     "metadata": {},
     "output_type": "display_data"
    }
   ],
   "source": [
    "sns.set(style=\"whitegrid\")\n",
    "fig , axes=plt.subplots(1,3 ,figsize=(18,5))\n",
    "\n",
    "ax=sns.countplot(data=df, x=\"Fuel_Type\",ax=axes[0],palette=\"cool_r\")\n",
    "axes[0].set_title(\"Fuel_Type Distribution\")\n",
    "for bars in ax.containers:\n",
    "    ax.bar_label(bars)\n",
    "    \n",
    "ax=sns.countplot(data=df,x=\"Seller_Type\",ax=axes[1],palette=\"cool_r\")\n",
    "axes[1].set_title(\"Seller_Type Distribution\")\n",
    "for bars in ax.containers:\n",
    "    ax.bar_label(bars)\n",
    "    \n",
    "ax=sns.countplot(data=df,x=\"Transmission\",ax=axes[2],palette=\"cool_r\")\n",
    "axes[2].set_title(\"Transmission Distribution\")\n",
    "for bars in ax.containers:\n",
    "    ax.bar_label(bars)"
   ]
  },
  {
   "cell_type": "markdown",
   "id": "f3ad94fc",
   "metadata": {
    "papermill": {
     "duration": 0.014354,
     "end_time": "2024-06-10T04:29:39.393840",
     "exception": false,
     "start_time": "2024-06-10T04:29:39.379486",
     "status": "completed"
    },
    "tags": []
   },
   "source": [
    "**Encoding Categorical Data**"
   ]
  },
  {
   "cell_type": "code",
   "execution_count": 10,
   "id": "6e0e76fd",
   "metadata": {
    "execution": {
     "iopub.execute_input": "2024-06-10T04:29:39.424352Z",
     "iopub.status.busy": "2024-06-10T04:29:39.423948Z",
     "iopub.status.idle": "2024-06-10T04:29:39.435508Z",
     "shell.execute_reply": "2024-06-10T04:29:39.434428Z"
    },
    "papermill": {
     "duration": 0.029926,
     "end_time": "2024-06-10T04:29:39.438492",
     "exception": false,
     "start_time": "2024-06-10T04:29:39.408566",
     "status": "completed"
    },
    "tags": []
   },
   "outputs": [
    {
     "name": "stderr",
     "output_type": "stream",
     "text": [
      "/tmp/ipykernel_18/824032626.py:2: FutureWarning: Downcasting behavior in `replace` is deprecated and will be removed in a future version. To retain the old behavior, explicitly call `result.infer_objects(copy=False)`. To opt-in to the future behavior, set `pd.set_option('future.no_silent_downcasting', True)`\n",
      "  df.replace({\"Fuel_Type\":{\"Petrol\":0,\"Diesel\":1,\"CNG\":2}},inplace=True)\n",
      "/tmp/ipykernel_18/824032626.py:5: FutureWarning: Downcasting behavior in `replace` is deprecated and will be removed in a future version. To retain the old behavior, explicitly call `result.infer_objects(copy=False)`. To opt-in to the future behavior, set `pd.set_option('future.no_silent_downcasting', True)`\n",
      "  df.replace({\"Seller_Type\":{\"Dealer\":0,\"Individual\":1}},inplace=True)\n",
      "/tmp/ipykernel_18/824032626.py:8: FutureWarning: Downcasting behavior in `replace` is deprecated and will be removed in a future version. To retain the old behavior, explicitly call `result.infer_objects(copy=False)`. To opt-in to the future behavior, set `pd.set_option('future.no_silent_downcasting', True)`\n",
      "  df.replace({\"Transmission\":{\"Manual\":0,\"Automatic\":1}},inplace=True)\n"
     ]
    }
   ],
   "source": [
    "# Encoding Fuel_Type\n",
    "df.replace({\"Fuel_Type\":{\"Petrol\":0,\"Diesel\":1,\"CNG\":2}},inplace=True)\n",
    "\n",
    "#Encoding Seller_Type\n",
    "df.replace({\"Seller_Type\":{\"Dealer\":0,\"Individual\":1}},inplace=True)\n",
    "\n",
    "#Encoding Transmission\n",
    "df.replace({\"Transmission\":{\"Manual\":0,\"Automatic\":1}},inplace=True)"
   ]
  },
  {
   "cell_type": "code",
   "execution_count": 11,
   "id": "a2e0098e",
   "metadata": {
    "execution": {
     "iopub.execute_input": "2024-06-10T04:29:39.470994Z",
     "iopub.status.busy": "2024-06-10T04:29:39.470566Z",
     "iopub.status.idle": "2024-06-10T04:29:39.485457Z",
     "shell.execute_reply": "2024-06-10T04:29:39.484427Z"
    },
    "papermill": {
     "duration": 0.033149,
     "end_time": "2024-06-10T04:29:39.488079",
     "exception": false,
     "start_time": "2024-06-10T04:29:39.454930",
     "status": "completed"
    },
    "tags": []
   },
   "outputs": [
    {
     "data": {
      "text/html": [
       "<div>\n",
       "<style scoped>\n",
       "    .dataframe tbody tr th:only-of-type {\n",
       "        vertical-align: middle;\n",
       "    }\n",
       "\n",
       "    .dataframe tbody tr th {\n",
       "        vertical-align: top;\n",
       "    }\n",
       "\n",
       "    .dataframe thead th {\n",
       "        text-align: right;\n",
       "    }\n",
       "</style>\n",
       "<table border=\"1\" class=\"dataframe\">\n",
       "  <thead>\n",
       "    <tr style=\"text-align: right;\">\n",
       "      <th></th>\n",
       "      <th>Car_Name</th>\n",
       "      <th>Year</th>\n",
       "      <th>Selling_Price</th>\n",
       "      <th>Present_Price</th>\n",
       "      <th>Kms_Driven</th>\n",
       "      <th>Fuel_Type</th>\n",
       "      <th>Seller_Type</th>\n",
       "      <th>Transmission</th>\n",
       "      <th>Owner</th>\n",
       "    </tr>\n",
       "  </thead>\n",
       "  <tbody>\n",
       "    <tr>\n",
       "      <th>0</th>\n",
       "      <td>ritz</td>\n",
       "      <td>2014</td>\n",
       "      <td>3.35</td>\n",
       "      <td>5.59</td>\n",
       "      <td>27000</td>\n",
       "      <td>0</td>\n",
       "      <td>0</td>\n",
       "      <td>0</td>\n",
       "      <td>0</td>\n",
       "    </tr>\n",
       "    <tr>\n",
       "      <th>1</th>\n",
       "      <td>sx4</td>\n",
       "      <td>2013</td>\n",
       "      <td>4.75</td>\n",
       "      <td>9.54</td>\n",
       "      <td>43000</td>\n",
       "      <td>1</td>\n",
       "      <td>0</td>\n",
       "      <td>0</td>\n",
       "      <td>0</td>\n",
       "    </tr>\n",
       "    <tr>\n",
       "      <th>2</th>\n",
       "      <td>ciaz</td>\n",
       "      <td>2017</td>\n",
       "      <td>7.25</td>\n",
       "      <td>9.85</td>\n",
       "      <td>6900</td>\n",
       "      <td>0</td>\n",
       "      <td>0</td>\n",
       "      <td>0</td>\n",
       "      <td>0</td>\n",
       "    </tr>\n",
       "    <tr>\n",
       "      <th>3</th>\n",
       "      <td>wagon r</td>\n",
       "      <td>2011</td>\n",
       "      <td>2.85</td>\n",
       "      <td>4.15</td>\n",
       "      <td>5200</td>\n",
       "      <td>0</td>\n",
       "      <td>0</td>\n",
       "      <td>0</td>\n",
       "      <td>0</td>\n",
       "    </tr>\n",
       "    <tr>\n",
       "      <th>4</th>\n",
       "      <td>swift</td>\n",
       "      <td>2014</td>\n",
       "      <td>4.60</td>\n",
       "      <td>6.87</td>\n",
       "      <td>42450</td>\n",
       "      <td>1</td>\n",
       "      <td>0</td>\n",
       "      <td>0</td>\n",
       "      <td>0</td>\n",
       "    </tr>\n",
       "  </tbody>\n",
       "</table>\n",
       "</div>"
      ],
      "text/plain": [
       "  Car_Name  Year  Selling_Price  Present_Price  Kms_Driven  Fuel_Type  \\\n",
       "0     ritz  2014           3.35           5.59       27000          0   \n",
       "1      sx4  2013           4.75           9.54       43000          1   \n",
       "2     ciaz  2017           7.25           9.85        6900          0   \n",
       "3  wagon r  2011           2.85           4.15        5200          0   \n",
       "4    swift  2014           4.60           6.87       42450          1   \n",
       "\n",
       "   Seller_Type  Transmission  Owner  \n",
       "0            0             0      0  \n",
       "1            0             0      0  \n",
       "2            0             0      0  \n",
       "3            0             0      0  \n",
       "4            0             0      0  "
      ]
     },
     "execution_count": 11,
     "metadata": {},
     "output_type": "execute_result"
    }
   ],
   "source": [
    "df.head()"
   ]
  },
  {
   "cell_type": "code",
   "execution_count": 12,
   "id": "058e8335",
   "metadata": {
    "execution": {
     "iopub.execute_input": "2024-06-10T04:29:39.520002Z",
     "iopub.status.busy": "2024-06-10T04:29:39.519594Z",
     "iopub.status.idle": "2024-06-10T04:29:39.531919Z",
     "shell.execute_reply": "2024-06-10T04:29:39.530833Z"
    },
    "papermill": {
     "duration": 0.032095,
     "end_time": "2024-06-10T04:29:39.535098",
     "exception": false,
     "start_time": "2024-06-10T04:29:39.503003",
     "status": "completed"
    },
    "tags": []
   },
   "outputs": [
    {
     "name": "stdout",
     "output_type": "stream",
     "text": [
      "<class 'pandas.core.frame.DataFrame'>\n",
      "RangeIndex: 301 entries, 0 to 300\n",
      "Data columns (total 9 columns):\n",
      " #   Column         Non-Null Count  Dtype  \n",
      "---  ------         --------------  -----  \n",
      " 0   Car_Name       301 non-null    object \n",
      " 1   Year           301 non-null    int64  \n",
      " 2   Selling_Price  301 non-null    float64\n",
      " 3   Present_Price  301 non-null    float64\n",
      " 4   Kms_Driven     301 non-null    int64  \n",
      " 5   Fuel_Type      301 non-null    int64  \n",
      " 6   Seller_Type    301 non-null    int64  \n",
      " 7   Transmission   301 non-null    int64  \n",
      " 8   Owner          301 non-null    int64  \n",
      "dtypes: float64(2), int64(6), object(1)\n",
      "memory usage: 21.3+ KB\n"
     ]
    }
   ],
   "source": [
    "df.info()"
   ]
  },
  {
   "cell_type": "markdown",
   "id": "aa604ad8",
   "metadata": {
    "papermill": {
     "duration": 0.014428,
     "end_time": "2024-06-10T04:29:39.564503",
     "exception": false,
     "start_time": "2024-06-10T04:29:39.550075",
     "status": "completed"
    },
    "tags": []
   },
   "source": [
    "# Spliting the data into Training data and Test Data"
   ]
  },
  {
   "cell_type": "code",
   "execution_count": 13,
   "id": "86b6d9c4",
   "metadata": {
    "execution": {
     "iopub.execute_input": "2024-06-10T04:29:39.595937Z",
     "iopub.status.busy": "2024-06-10T04:29:39.595513Z",
     "iopub.status.idle": "2024-06-10T04:29:39.604039Z",
     "shell.execute_reply": "2024-06-10T04:29:39.602827Z"
    },
    "papermill": {
     "duration": 0.027304,
     "end_time": "2024-06-10T04:29:39.606696",
     "exception": false,
     "start_time": "2024-06-10T04:29:39.579392",
     "status": "completed"
    },
    "tags": []
   },
   "outputs": [],
   "source": [
    "X=df.drop([\"Car_Name\",\"Selling_Price\"],axis=1)\n",
    "Y=df[\"Selling_Price\"]\n"
   ]
  },
  {
   "cell_type": "code",
   "execution_count": 14,
   "id": "be97b86c",
   "metadata": {
    "execution": {
     "iopub.execute_input": "2024-06-10T04:29:39.638755Z",
     "iopub.status.busy": "2024-06-10T04:29:39.638291Z",
     "iopub.status.idle": "2024-06-10T04:29:39.649702Z",
     "shell.execute_reply": "2024-06-10T04:29:39.648230Z"
    },
    "papermill": {
     "duration": 0.030853,
     "end_time": "2024-06-10T04:29:39.652510",
     "exception": false,
     "start_time": "2024-06-10T04:29:39.621657",
     "status": "completed"
    },
    "tags": []
   },
   "outputs": [
    {
     "name": "stdout",
     "output_type": "stream",
     "text": [
      "     Year  Present_Price  Kms_Driven  Fuel_Type  Seller_Type  Transmission  \\\n",
      "0    2014           5.59       27000          0            0             0   \n",
      "1    2013           9.54       43000          1            0             0   \n",
      "2    2017           9.85        6900          0            0             0   \n",
      "3    2011           4.15        5200          0            0             0   \n",
      "4    2014           6.87       42450          1            0             0   \n",
      "..    ...            ...         ...        ...          ...           ...   \n",
      "296  2016          11.60       33988          1            0             0   \n",
      "297  2015           5.90       60000          0            0             0   \n",
      "298  2009          11.00       87934          0            0             0   \n",
      "299  2017          12.50        9000          1            0             0   \n",
      "300  2016           5.90        5464          0            0             0   \n",
      "\n",
      "     Owner  \n",
      "0        0  \n",
      "1        0  \n",
      "2        0  \n",
      "3        0  \n",
      "4        0  \n",
      "..     ...  \n",
      "296      0  \n",
      "297      0  \n",
      "298      0  \n",
      "299      0  \n",
      "300      0  \n",
      "\n",
      "[301 rows x 7 columns]\n"
     ]
    }
   ],
   "source": [
    "print(X)"
   ]
  },
  {
   "cell_type": "code",
   "execution_count": 15,
   "id": "59e618b8",
   "metadata": {
    "execution": {
     "iopub.execute_input": "2024-06-10T04:29:39.684496Z",
     "iopub.status.busy": "2024-06-10T04:29:39.684068Z",
     "iopub.status.idle": "2024-06-10T04:29:39.691737Z",
     "shell.execute_reply": "2024-06-10T04:29:39.690656Z"
    },
    "papermill": {
     "duration": 0.026342,
     "end_time": "2024-06-10T04:29:39.694185",
     "exception": false,
     "start_time": "2024-06-10T04:29:39.667843",
     "status": "completed"
    },
    "tags": []
   },
   "outputs": [
    {
     "name": "stdout",
     "output_type": "stream",
     "text": [
      "0       3.35\n",
      "1       4.75\n",
      "2       7.25\n",
      "3       2.85\n",
      "4       4.60\n",
      "       ...  \n",
      "296     9.50\n",
      "297     4.00\n",
      "298     3.35\n",
      "299    11.50\n",
      "300     5.30\n",
      "Name: Selling_Price, Length: 301, dtype: float64\n"
     ]
    }
   ],
   "source": [
    "print(Y)"
   ]
  },
  {
   "cell_type": "markdown",
   "id": "4f0d1bc9",
   "metadata": {
    "papermill": {
     "duration": 0.014606,
     "end_time": "2024-06-10T04:29:39.723863",
     "exception": false,
     "start_time": "2024-06-10T04:29:39.709257",
     "status": "completed"
    },
    "tags": []
   },
   "source": [
    "Splitting Training and Test Data"
   ]
  },
  {
   "cell_type": "code",
   "execution_count": 16,
   "id": "43d09168",
   "metadata": {
    "execution": {
     "iopub.execute_input": "2024-06-10T04:29:39.755475Z",
     "iopub.status.busy": "2024-06-10T04:29:39.755027Z",
     "iopub.status.idle": "2024-06-10T04:29:39.764644Z",
     "shell.execute_reply": "2024-06-10T04:29:39.763421Z"
    },
    "papermill": {
     "duration": 0.0282,
     "end_time": "2024-06-10T04:29:39.767115",
     "exception": false,
     "start_time": "2024-06-10T04:29:39.738915",
     "status": "completed"
    },
    "tags": []
   },
   "outputs": [],
   "source": [
    "X_train,X_test,Y_train,Y_test = train_test_split(X,Y,test_size=0.1,random_state=2)"
   ]
  },
  {
   "cell_type": "markdown",
   "id": "efe2fc3b",
   "metadata": {
    "papermill": {
     "duration": 0.014667,
     "end_time": "2024-06-10T04:29:39.796835",
     "exception": false,
     "start_time": "2024-06-10T04:29:39.782168",
     "status": "completed"
    },
    "tags": []
   },
   "source": [
    "# Model Training"
   ]
  },
  {
   "cell_type": "markdown",
   "id": "d3b516e6",
   "metadata": {
    "papermill": {
     "duration": 0.014574,
     "end_time": "2024-06-10T04:29:39.826355",
     "exception": false,
     "start_time": "2024-06-10T04:29:39.811781",
     "status": "completed"
    },
    "tags": []
   },
   "source": [
    "**1. Linear Regrsession Model**"
   ]
  },
  {
   "cell_type": "code",
   "execution_count": 17,
   "id": "f6cb9413",
   "metadata": {
    "execution": {
     "iopub.execute_input": "2024-06-10T04:29:39.860090Z",
     "iopub.status.busy": "2024-06-10T04:29:39.859474Z",
     "iopub.status.idle": "2024-06-10T04:29:39.865656Z",
     "shell.execute_reply": "2024-06-10T04:29:39.864173Z"
    },
    "papermill": {
     "duration": 0.027665,
     "end_time": "2024-06-10T04:29:39.868930",
     "exception": false,
     "start_time": "2024-06-10T04:29:39.841265",
     "status": "completed"
    },
    "tags": []
   },
   "outputs": [],
   "source": [
    "#Loading the Linear Regression Model\n",
    "Linear_Reg_Model = LinearRegression()"
   ]
  },
  {
   "cell_type": "code",
   "execution_count": 18,
   "id": "4df8aa42",
   "metadata": {
    "execution": {
     "iopub.execute_input": "2024-06-10T04:29:39.911981Z",
     "iopub.status.busy": "2024-06-10T04:29:39.911046Z",
     "iopub.status.idle": "2024-06-10T04:29:39.945786Z",
     "shell.execute_reply": "2024-06-10T04:29:39.944642Z"
    },
    "papermill": {
     "duration": 0.058788,
     "end_time": "2024-06-10T04:29:39.948465",
     "exception": false,
     "start_time": "2024-06-10T04:29:39.889677",
     "status": "completed"
    },
    "tags": []
   },
   "outputs": [
    {
     "data": {
      "text/html": [
       "<style>#sk-container-id-1 {color: black;background-color: white;}#sk-container-id-1 pre{padding: 0;}#sk-container-id-1 div.sk-toggleable {background-color: white;}#sk-container-id-1 label.sk-toggleable__label {cursor: pointer;display: block;width: 100%;margin-bottom: 0;padding: 0.3em;box-sizing: border-box;text-align: center;}#sk-container-id-1 label.sk-toggleable__label-arrow:before {content: \"▸\";float: left;margin-right: 0.25em;color: #696969;}#sk-container-id-1 label.sk-toggleable__label-arrow:hover:before {color: black;}#sk-container-id-1 div.sk-estimator:hover label.sk-toggleable__label-arrow:before {color: black;}#sk-container-id-1 div.sk-toggleable__content {max-height: 0;max-width: 0;overflow: hidden;text-align: left;background-color: #f0f8ff;}#sk-container-id-1 div.sk-toggleable__content pre {margin: 0.2em;color: black;border-radius: 0.25em;background-color: #f0f8ff;}#sk-container-id-1 input.sk-toggleable__control:checked~div.sk-toggleable__content {max-height: 200px;max-width: 100%;overflow: auto;}#sk-container-id-1 input.sk-toggleable__control:checked~label.sk-toggleable__label-arrow:before {content: \"▾\";}#sk-container-id-1 div.sk-estimator input.sk-toggleable__control:checked~label.sk-toggleable__label {background-color: #d4ebff;}#sk-container-id-1 div.sk-label input.sk-toggleable__control:checked~label.sk-toggleable__label {background-color: #d4ebff;}#sk-container-id-1 input.sk-hidden--visually {border: 0;clip: rect(1px 1px 1px 1px);clip: rect(1px, 1px, 1px, 1px);height: 1px;margin: -1px;overflow: hidden;padding: 0;position: absolute;width: 1px;}#sk-container-id-1 div.sk-estimator {font-family: monospace;background-color: #f0f8ff;border: 1px dotted black;border-radius: 0.25em;box-sizing: border-box;margin-bottom: 0.5em;}#sk-container-id-1 div.sk-estimator:hover {background-color: #d4ebff;}#sk-container-id-1 div.sk-parallel-item::after {content: \"\";width: 100%;border-bottom: 1px solid gray;flex-grow: 1;}#sk-container-id-1 div.sk-label:hover label.sk-toggleable__label {background-color: #d4ebff;}#sk-container-id-1 div.sk-serial::before {content: \"\";position: absolute;border-left: 1px solid gray;box-sizing: border-box;top: 0;bottom: 0;left: 50%;z-index: 0;}#sk-container-id-1 div.sk-serial {display: flex;flex-direction: column;align-items: center;background-color: white;padding-right: 0.2em;padding-left: 0.2em;position: relative;}#sk-container-id-1 div.sk-item {position: relative;z-index: 1;}#sk-container-id-1 div.sk-parallel {display: flex;align-items: stretch;justify-content: center;background-color: white;position: relative;}#sk-container-id-1 div.sk-item::before, #sk-container-id-1 div.sk-parallel-item::before {content: \"\";position: absolute;border-left: 1px solid gray;box-sizing: border-box;top: 0;bottom: 0;left: 50%;z-index: -1;}#sk-container-id-1 div.sk-parallel-item {display: flex;flex-direction: column;z-index: 1;position: relative;background-color: white;}#sk-container-id-1 div.sk-parallel-item:first-child::after {align-self: flex-end;width: 50%;}#sk-container-id-1 div.sk-parallel-item:last-child::after {align-self: flex-start;width: 50%;}#sk-container-id-1 div.sk-parallel-item:only-child::after {width: 0;}#sk-container-id-1 div.sk-dashed-wrapped {border: 1px dashed gray;margin: 0 0.4em 0.5em 0.4em;box-sizing: border-box;padding-bottom: 0.4em;background-color: white;}#sk-container-id-1 div.sk-label label {font-family: monospace;font-weight: bold;display: inline-block;line-height: 1.2em;}#sk-container-id-1 div.sk-label-container {text-align: center;}#sk-container-id-1 div.sk-container {/* jupyter's `normalize.less` sets `[hidden] { display: none; }` but bootstrap.min.css set `[hidden] { display: none !important; }` so we also need the `!important` here to be able to override the default hidden behavior on the sphinx rendered scikit-learn.org. See: https://github.com/scikit-learn/scikit-learn/issues/21755 */display: inline-block !important;position: relative;}#sk-container-id-1 div.sk-text-repr-fallback {display: none;}</style><div id=\"sk-container-id-1\" class=\"sk-top-container\"><div class=\"sk-text-repr-fallback\"><pre>LinearRegression()</pre><b>In a Jupyter environment, please rerun this cell to show the HTML representation or trust the notebook. <br />On GitHub, the HTML representation is unable to render, please try loading this page with nbviewer.org.</b></div><div class=\"sk-container\" hidden><div class=\"sk-item\"><div class=\"sk-estimator sk-toggleable\"><input class=\"sk-toggleable__control sk-hidden--visually\" id=\"sk-estimator-id-1\" type=\"checkbox\" checked><label for=\"sk-estimator-id-1\" class=\"sk-toggleable__label sk-toggleable__label-arrow\">LinearRegression</label><div class=\"sk-toggleable__content\"><pre>LinearRegression()</pre></div></div></div></div></div>"
      ],
      "text/plain": [
       "LinearRegression()"
      ]
     },
     "execution_count": 18,
     "metadata": {},
     "output_type": "execute_result"
    }
   ],
   "source": [
    "#Fit the Model\n",
    "Linear_Reg_Model.fit(X_train,Y_train)"
   ]
  },
  {
   "cell_type": "code",
   "execution_count": 19,
   "id": "5465565e",
   "metadata": {
    "execution": {
     "iopub.execute_input": "2024-06-10T04:29:39.982633Z",
     "iopub.status.busy": "2024-06-10T04:29:39.981588Z",
     "iopub.status.idle": "2024-06-10T04:29:39.990500Z",
     "shell.execute_reply": "2024-06-10T04:29:39.989015Z"
    },
    "papermill": {
     "duration": 0.02933,
     "end_time": "2024-06-10T04:29:39.993657",
     "exception": false,
     "start_time": "2024-06-10T04:29:39.964327",
     "status": "completed"
    },
    "tags": []
   },
   "outputs": [],
   "source": [
    "# prediction on training data\n",
    "Training_Prediction = Linear_Reg_Model.predict(X_train)"
   ]
  },
  {
   "cell_type": "markdown",
   "id": "541dc161",
   "metadata": {
    "papermill": {
     "duration": 0.021272,
     "end_time": "2024-06-10T04:29:40.035386",
     "exception": false,
     "start_time": "2024-06-10T04:29:40.014114",
     "status": "completed"
    },
    "tags": []
   },
   "source": [
    "**Visualize the actual prices and Predicted prices**"
   ]
  },
  {
   "cell_type": "code",
   "execution_count": 20,
   "id": "c95527f4",
   "metadata": {
    "execution": {
     "iopub.execute_input": "2024-06-10T04:29:40.080741Z",
     "iopub.status.busy": "2024-06-10T04:29:40.080314Z",
     "iopub.status.idle": "2024-06-10T04:29:40.490564Z",
     "shell.execute_reply": "2024-06-10T04:29:40.489486Z"
    },
    "papermill": {
     "duration": 0.436632,
     "end_time": "2024-06-10T04:29:40.493066",
     "exception": false,
     "start_time": "2024-06-10T04:29:40.056434",
     "status": "completed"
    },
    "tags": []
   },
   "outputs": [
    {
     "data": {
      "image/png": "[encoded data removed]",
      "text/plain": [
       "<Figure size 640x480 with 1 Axes>"
      ]
     },
     "metadata": {},
     "output_type": "display_data"
    }
   ],
   "source": [
    "plt.scatter(Y_train,Training_Prediction)\n",
    "plt.xlabel(\"Actual Price\")\n",
    "plt.ylabel(\"Predicted Price\")\n",
    "plt.title(\"Actual Vs Predicted Prices\")\n",
    "plt.show()"
   ]
  },
  {
   "cell_type": "code",
   "execution_count": 21,
   "id": "df71ab70",
   "metadata": {
    "execution": {
     "iopub.execute_input": "2024-06-10T04:29:40.527400Z",
     "iopub.status.busy": "2024-06-10T04:29:40.526861Z",
     "iopub.status.idle": "2024-06-10T04:29:40.534551Z",
     "shell.execute_reply": "2024-06-10T04:29:40.533290Z"
    },
    "papermill": {
     "duration": 0.027783,
     "end_time": "2024-06-10T04:29:40.537365",
     "exception": false,
     "start_time": "2024-06-10T04:29:40.509582",
     "status": "completed"
    },
    "tags": []
   },
   "outputs": [
    {
     "name": "stdout",
     "output_type": "stream",
     "text": [
      "R squared Error :  0.8799451660493711\n"
     ]
    }
   ],
   "source": [
    "# R Squared Error\n",
    "error_score=metrics.r2_score(Y_train,Training_Prediction)\n",
    "print(\"R squared Error : \" , error_score)"
   ]
  },
  {
   "cell_type": "code",
   "execution_count": 22,
   "id": "4a2b7626",
   "metadata": {
    "execution": {
     "iopub.execute_input": "2024-06-10T04:29:40.571135Z",
     "iopub.status.busy": "2024-06-10T04:29:40.570720Z",
     "iopub.status.idle": "2024-06-10T04:29:40.578337Z",
     "shell.execute_reply": "2024-06-10T04:29:40.576757Z"
    },
    "papermill": {
     "duration": 0.027446,
     "end_time": "2024-06-10T04:29:40.580927",
     "exception": false,
     "start_time": "2024-06-10T04:29:40.553481",
     "status": "completed"
    },
    "tags": []
   },
   "outputs": [],
   "source": [
    "# prediction on Testing data\n",
    "Testing_Prediction = Linear_Reg_Model.predict(X_test)"
   ]
  },
  {
   "cell_type": "code",
   "execution_count": 23,
   "id": "fb40e064",
   "metadata": {
    "execution": {
     "iopub.execute_input": "2024-06-10T04:29:40.615264Z",
     "iopub.status.busy": "2024-06-10T04:29:40.614856Z",
     "iopub.status.idle": "2024-06-10T04:29:41.012494Z",
     "shell.execute_reply": "2024-06-10T04:29:41.011284Z"
    },
    "papermill": {
     "duration": 0.418052,
     "end_time": "2024-06-10T04:29:41.015041",
     "exception": false,
     "start_time": "2024-06-10T04:29:40.596989",
     "status": "completed"
    },
    "tags": []
   },
   "outputs": [
    {
     "data": {
      "image/png": "[encoded data removed]",
      "text/plain": [
       "<Figure size 640x480 with 1 Axes>"
      ]
     },
     "metadata": {},
     "output_type": "display_data"
    }
   ],
   "source": [
    "plt.scatter(Y_test,Testing_Prediction)\n",
    "plt.xlabel(\"Actual Price\")\n",
    "plt.ylabel(\"Predicted Price\")\n",
    "plt.title(\"Actual Vs Predicted Prices\")\n",
    "plt.show()"
   ]
  },
  {
   "cell_type": "code",
   "execution_count": 24,
   "id": "b4d7ecdf",
   "metadata": {
    "execution": {
     "iopub.execute_input": "2024-06-10T04:29:41.050294Z",
     "iopub.status.busy": "2024-06-10T04:29:41.049568Z",
     "iopub.status.idle": "2024-06-10T04:29:41.056243Z",
     "shell.execute_reply": "2024-06-10T04:29:41.055087Z"
    },
    "papermill": {
     "duration": 0.027456,
     "end_time": "2024-06-10T04:29:41.059191",
     "exception": false,
     "start_time": "2024-06-10T04:29:41.031735",
     "status": "completed"
    },
    "tags": []
   },
   "outputs": [
    {
     "name": "stdout",
     "output_type": "stream",
     "text": [
      "R squared Error :  0.8365766715027051\n"
     ]
    }
   ],
   "source": [
    "error_score=metrics.r2_score(Y_test,Testing_Prediction)\n",
    "print(\"R squared Error : \" , error_score)"
   ]
  },
  {
   "cell_type": "markdown",
   "id": "4145ef26",
   "metadata": {
    "papermill": {
     "duration": 0.016262,
     "end_time": "2024-06-10T04:29:41.092244",
     "exception": false,
     "start_time": "2024-06-10T04:29:41.075982",
     "status": "completed"
    },
    "tags": []
   },
   "source": [
    "**2.Lasso Regression**"
   ]
  },
  {
   "cell_type": "code",
   "execution_count": 25,
   "id": "2d6e3c22",
   "metadata": {
    "execution": {
     "iopub.execute_input": "2024-06-10T04:29:41.127646Z",
     "iopub.status.busy": "2024-06-10T04:29:41.127220Z",
     "iopub.status.idle": "2024-06-10T04:29:41.132568Z",
     "shell.execute_reply": "2024-06-10T04:29:41.131222Z"
    },
    "papermill": {
     "duration": 0.025729,
     "end_time": "2024-06-10T04:29:41.134899",
     "exception": false,
     "start_time": "2024-06-10T04:29:41.109170",
     "status": "completed"
    },
    "tags": []
   },
   "outputs": [],
   "source": [
    "#Loading the Linear Lasso Model\n",
    "Lasso_Reg_Model = Lasso()"
   ]
  },
  {
   "cell_type": "code",
   "execution_count": 26,
   "id": "71fc5bfd",
   "metadata": {
    "execution": {
     "iopub.execute_input": "2024-06-10T04:29:41.170740Z",
     "iopub.status.busy": "2024-06-10T04:29:41.169561Z",
     "iopub.status.idle": "2024-06-10T04:29:41.184556Z",
     "shell.execute_reply": "2024-06-10T04:29:41.183445Z"
    },
    "papermill": {
     "duration": 0.035732,
     "end_time": "2024-06-10T04:29:41.187169",
     "exception": false,
     "start_time": "2024-06-10T04:29:41.151437",
     "status": "completed"
    },
    "tags": []
   },
   "outputs": [
    {
     "data": {
      "text/html": [
       "<style>#sk-container-id-2 {color: black;background-color: white;}#sk-container-id-2 pre{padding: 0;}#sk-container-id-2 div.sk-toggleable {background-color: white;}#sk-container-id-2 label.sk-toggleable__label {cursor: pointer;display: block;width: 100%;margin-bottom: 0;padding: 0.3em;box-sizing: border-box;text-align: center;}#sk-container-id-2 label.sk-toggleable__label-arrow:before {content: \"▸\";float: left;margin-right: 0.25em;color: #696969;}#sk-container-id-2 label.sk-toggleable__label-arrow:hover:before {color: black;}#sk-container-id-2 div.sk-estimator:hover label.sk-toggleable__label-arrow:before {color: black;}#sk-container-id-2 div.sk-toggleable__content {max-height: 0;max-width: 0;overflow: hidden;text-align: left;background-color: #f0f8ff;}#sk-container-id-2 div.sk-toggleable__content pre {margin: 0.2em;color: black;border-radius: 0.25em;background-color: #f0f8ff;}#sk-container-id-2 input.sk-toggleable__control:checked~div.sk-toggleable__content {max-height: 200px;max-width: 100%;overflow: auto;}#sk-container-id-2 input.sk-toggleable__control:checked~label.sk-toggleable__label-arrow:before {content: \"▾\";}#sk-container-id-2 div.sk-estimator input.sk-toggleable__control:checked~label.sk-toggleable__label {background-color: #d4ebff;}#sk-container-id-2 div.sk-label input.sk-toggleable__control:checked~label.sk-toggleable__label {background-color: #d4ebff;}#sk-container-id-2 input.sk-hidden--visually {border: 0;clip: rect(1px 1px 1px 1px);clip: rect(1px, 1px, 1px, 1px);height: 1px;margin: -1px;overflow: hidden;padding: 0;position: absolute;width: 1px;}#sk-container-id-2 div.sk-estimator {font-family: monospace;background-color: #f0f8ff;border: 1px dotted black;border-radius: 0.25em;box-sizing: border-box;margin-bottom: 0.5em;}#sk-container-id-2 div.sk-estimator:hover {background-color: #d4ebff;}#sk-container-id-2 div.sk-parallel-item::after {content: \"\";width: 100%;border-bottom: 1px solid gray;flex-grow: 1;}#sk-container-id-2 div.sk-label:hover label.sk-toggleable__label {background-color: #d4ebff;}#sk-container-id-2 div.sk-serial::before {content: \"\";position: absolute;border-left: 1px solid gray;box-sizing: border-box;top: 0;bottom: 0;left: 50%;z-index: 0;}#sk-container-id-2 div.sk-serial {display: flex;flex-direction: column;align-items: center;background-color: white;padding-right: 0.2em;padding-left: 0.2em;position: relative;}#sk-container-id-2 div.sk-item {position: relative;z-index: 1;}#sk-container-id-2 div.sk-parallel {display: flex;align-items: stretch;justify-content: center;background-color: white;position: relative;}#sk-container-id-2 div.sk-item::before, #sk-container-id-2 div.sk-parallel-item::before {content: \"\";position: absolute;border-left: 1px solid gray;box-sizing: border-box;top: 0;bottom: 0;left: 50%;z-index: -1;}#sk-container-id-2 div.sk-parallel-item {display: flex;flex-direction: column;z-index: 1;position: relative;background-color: white;}#sk-container-id-2 div.sk-parallel-item:first-child::after {align-self: flex-end;width: 50%;}#sk-container-id-2 div.sk-parallel-item:last-child::after {align-self: flex-start;width: 50%;}#sk-container-id-2 div.sk-parallel-item:only-child::after {width: 0;}#sk-container-id-2 div.sk-dashed-wrapped {border: 1px dashed gray;margin: 0 0.4em 0.5em 0.4em;box-sizing: border-box;padding-bottom: 0.4em;background-color: white;}#sk-container-id-2 div.sk-label label {font-family: monospace;font-weight: bold;display: inline-block;line-height: 1.2em;}#sk-container-id-2 div.sk-label-container {text-align: center;}#sk-container-id-2 div.sk-container {/* jupyter's `normalize.less` sets `[hidden] { display: none; }` but bootstrap.min.css set `[hidden] { display: none !important; }` so we also need the `!important` here to be able to override the default hidden behavior on the sphinx rendered scikit-learn.org. See: https://github.com/scikit-learn/scikit-learn/issues/21755 */display: inline-block !important;position: relative;}#sk-container-id-2 div.sk-text-repr-fallback {display: none;}</style><div id=\"sk-container-id-2\" class=\"sk-top-container\"><div class=\"sk-text-repr-fallback\"><pre>Lasso()</pre><b>In a Jupyter environment, please rerun this cell to show the HTML representation or trust the notebook. <br />On GitHub, the HTML representation is unable to render, please try loading this page with nbviewer.org.</b></div><div class=\"sk-container\" hidden><div class=\"sk-item\"><div class=\"sk-estimator sk-toggleable\"><input class=\"sk-toggleable__control sk-hidden--visually\" id=\"sk-estimator-id-2\" type=\"checkbox\" checked><label for=\"sk-estimator-id-2\" class=\"sk-toggleable__label sk-toggleable__label-arrow\">Lasso</label><div class=\"sk-toggleable__content\"><pre>Lasso()</pre></div></div></div></div></div>"
      ],
      "text/plain": [
       "Lasso()"
      ]
     },
     "execution_count": 26,
     "metadata": {},
     "output_type": "execute_result"
    }
   ],
   "source": [
    "#Fit the Model\n",
    "Lasso_Reg_Model.fit(X_train,Y_train)"
   ]
  },
  {
   "cell_type": "code",
   "execution_count": 27,
   "id": "2bc455f2",
   "metadata": {
    "execution": {
     "iopub.execute_input": "2024-06-10T04:29:41.223304Z",
     "iopub.status.busy": "2024-06-10T04:29:41.222901Z",
     "iopub.status.idle": "2024-06-10T04:29:41.230257Z",
     "shell.execute_reply": "2024-06-10T04:29:41.229007Z"
    },
    "papermill": {
     "duration": 0.028366,
     "end_time": "2024-06-10T04:29:41.232586",
     "exception": false,
     "start_time": "2024-06-10T04:29:41.204220",
     "status": "completed"
    },
    "tags": []
   },
   "outputs": [],
   "source": [
    "# prediction on training data\n",
    "Training_Prediction_Lasso = Lasso_Reg_Model.predict(X_train)"
   ]
  },
  {
   "cell_type": "markdown",
   "id": "973ee322",
   "metadata": {
    "papermill": {
     "duration": 0.017102,
     "end_time": "2024-06-10T04:29:41.267399",
     "exception": false,
     "start_time": "2024-06-10T04:29:41.250297",
     "status": "completed"
    },
    "tags": []
   },
   "source": [
    "**Visualize the actual prices and Predicted prices**"
   ]
  },
  {
   "cell_type": "code",
   "execution_count": 28,
   "id": "851e4ffb",
   "metadata": {
    "execution": {
     "iopub.execute_input": "2024-06-10T04:29:41.365652Z",
     "iopub.status.busy": "2024-06-10T04:29:41.365222Z",
     "iopub.status.idle": "2024-06-10T04:29:41.755592Z",
     "shell.execute_reply": "2024-06-10T04:29:41.754263Z"
    },
    "papermill": {
     "duration": 0.473195,
     "end_time": "2024-06-10T04:29:41.758218",
     "exception": false,
     "start_time": "2024-06-10T04:29:41.285023",
     "status": "completed"
    },
    "tags": []
   },
   "outputs": [
    {
     "data": {
      "image/png": "[encoded data removed]",
      "text/plain": [
       "<Figure size 640x480 with 1 Axes>"
      ]
     },
     "metadata": {},
     "output_type": "display_data"
    }
   ],
   "source": [
    "plt.scatter(Y_train,Training_Prediction_Lasso)\n",
    "plt.xlabel(\"Actual Price\")\n",
    "plt.ylabel(\"Predicted Price\")\n",
    "plt.title(\"Actual Vs Predicted Prices\")\n",
    "plt.show()"
   ]
  },
  {
   "cell_type": "code",
   "execution_count": 29,
   "id": "6434e772",
   "metadata": {
    "execution": {
     "iopub.execute_input": "2024-06-10T04:29:41.795597Z",
     "iopub.status.busy": "2024-06-10T04:29:41.795174Z",
     "iopub.status.idle": "2024-06-10T04:29:41.802869Z",
     "shell.execute_reply": "2024-06-10T04:29:41.801604Z"
    },
    "papermill": {
     "duration": 0.029772,
     "end_time": "2024-06-10T04:29:41.805456",
     "exception": false,
     "start_time": "2024-06-10T04:29:41.775684",
     "status": "completed"
    },
    "tags": []
   },
   "outputs": [
    {
     "name": "stdout",
     "output_type": "stream",
     "text": [
      "R squared Error :  0.8427856123435794\n"
     ]
    }
   ],
   "source": [
    "# R Squared Error For Lasso\n",
    "error_score=metrics.r2_score(Y_train,Training_Prediction_Lasso)\n",
    "print(\"R squared Error : \" , error_score)"
   ]
  },
  {
   "cell_type": "code",
   "execution_count": 30,
   "id": "23e4ff3d",
   "metadata": {
    "execution": {
     "iopub.execute_input": "2024-06-10T04:29:41.842955Z",
     "iopub.status.busy": "2024-06-10T04:29:41.842532Z",
     "iopub.status.idle": "2024-06-10T04:29:41.850005Z",
     "shell.execute_reply": "2024-06-10T04:29:41.848857Z"
    },
    "papermill": {
     "duration": 0.029262,
     "end_time": "2024-06-10T04:29:41.852434",
     "exception": false,
     "start_time": "2024-06-10T04:29:41.823172",
     "status": "completed"
    },
    "tags": []
   },
   "outputs": [],
   "source": [
    "# prediction on Testing data\n",
    "Testing_Prediction_Lasso = Lasso_Reg_Model.predict(X_test)"
   ]
  },
  {
   "cell_type": "code",
   "execution_count": 31,
   "id": "880197f4",
   "metadata": {
    "execution": {
     "iopub.execute_input": "2024-06-10T04:29:41.890299Z",
     "iopub.status.busy": "2024-06-10T04:29:41.889900Z",
     "iopub.status.idle": "2024-06-10T04:29:42.281850Z",
     "shell.execute_reply": "2024-06-10T04:29:42.280612Z"
    },
    "papermill": {
     "duration": 0.413442,
     "end_time": "2024-06-10T04:29:42.284420",
     "exception": false,
     "start_time": "2024-06-10T04:29:41.870978",
     "status": "completed"
    },
    "tags": []
   },
   "outputs": [
    {
     "data": {
      "image/png": "[encoded data removed]",
      "text/plain": [
       "<Figure size 640x480 with 1 Axes>"
      ]
     },
     "metadata": {},
     "output_type": "display_data"
    }
   ],
   "source": [
    "plt.scatter(Y_test,Testing_Prediction_Lasso)\n",
    "plt.xlabel(\"Actual Price\")\n",
    "plt.ylabel(\"Predicted Price\")\n",
    "plt.title(\"Actual Vs Predicted Prices\")\n",
    "plt.show()"
   ]
  },
  {
   "cell_type": "code",
   "execution_count": 32,
   "id": "4bdfaf9b",
   "metadata": {
    "execution": {
     "iopub.execute_input": "2024-06-10T04:29:42.323413Z",
     "iopub.status.busy": "2024-06-10T04:29:42.323019Z",
     "iopub.status.idle": "2024-06-10T04:29:42.330057Z",
     "shell.execute_reply": "2024-06-10T04:29:42.328850Z"
    },
    "papermill": {
     "duration": 0.02958,
     "end_time": "2024-06-10T04:29:42.332753",
     "exception": false,
     "start_time": "2024-06-10T04:29:42.303173",
     "status": "completed"
    },
    "tags": []
   },
   "outputs": [
    {
     "name": "stdout",
     "output_type": "stream",
     "text": [
      "R squared Error :  0.8709167941173195\n"
     ]
    }
   ],
   "source": [
    "error_score=metrics.r2_score(Y_test,Testing_Prediction_Lasso)\n",
    "print(\"R squared Error : \" , error_score)"
   ]
  }
 ],
 "metadata": {
  "kaggle": {
   "accelerator": "none",
   "dataSources": [
    {
     "datasetId": 4210881,
     "sourceId": 7265027,
     "sourceType": "datasetVersion"
    }
   ],
   "dockerImageVersionId": 30732,
   "isGpuEnabled": false,
   "isInternetEnabled": true,
   "language": "python",
   "sourceType": "notebook"
  },
  "kernelspec": {
   "display_name": "Python 3",
   "language": "python",
   "name": "python3"
  },
  "language_info": {
   "codemirror_mode": {
    "name": "ipython",
    "version": 3
   },
   "file_extension": ".py",
   "mimetype": "text/x-python",
   "name": "python",
   "nbconvert_exporter": "python",
   "pygments_lexer": "ipython3",
   "version": "3.10.13"
  },
  "papermill": {
   "default_parameters": {},
   "duration": 11.31923,
   "end_time": "2024-06-10T04:29:42.973445",
   "environment_variables": {},
   "exception": null,
   "input_path": "__notebook__.ipynb",
   "output_path": "__notebook__.ipynb",
   "parameters": {},
   "start_time": "2024-06-10T04:29:31.654215",
   "version": "2.5.0"
  }
 },
 "nbformat": 4,
 "nbformat_minor": 5
}
